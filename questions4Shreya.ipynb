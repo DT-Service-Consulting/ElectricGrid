{
 "cells": [
  {
   "cell_type": "markdown",
   "id": "2057e970",
   "metadata": {},
   "source": [
    "# Questions for Shreya\n",
    "\n",
    "- What are the units?\n",
    "\n",
    "guess\n",
    "\n",
    "\n",
    "- What are the "
   ]
  }
 ],
 "metadata": {
  "kernelspec": {
   "display_name": ".venv",
   "language": "python",
   "name": "python3"
  },
  "language_info": {
   "name": "python",
   "version": "3.11.5"
  }
 },
 "nbformat": 4,
 "nbformat_minor": 5
}
